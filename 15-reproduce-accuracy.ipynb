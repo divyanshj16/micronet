{
 "cells": [
  {
   "cell_type": "markdown",
   "metadata": {},
   "source": [
    "## This notebook is to just test the accuracy of the model\n",
    "\n",
    "It assumes that you have run setup.sh script.\n",
    "\n",
    "Training notebook is named _13-cifar100-WRN-final.ipynb_"
   ]
  },
  {
   "cell_type": "code",
   "execution_count": 1,
   "metadata": {},
   "outputs": [],
   "source": [
    "## We need to have the data and environment setup to evaluate model here.\n",
    "## The model FINAL_WRN_NO_FL.pth is copied to models directory in the setup.sh script,\n",
    "## It makes fastai to load the model as it expects cifar100/models directory"
   ]
  },
  {
   "cell_type": "code",
   "execution_count": 2,
   "metadata": {},
   "outputs": [],
   "source": [
    "import torch\n",
    "from fastai.vision import ImageDataBunch, get_transforms, accuracy\n",
    "from fastai.basic_train import Learner\n",
    "from fastai.vision.models import WideResNet\n",
    "from pathlib import Path\n",
    "\n",
    "path = Path('cifar100')"
   ]
  },
  {
   "cell_type": "code",
   "execution_count": 3,
   "metadata": {},
   "outputs": [],
   "source": [
    "cifar100_stats = (torch.tensor([0.5070751592371323, 0.48654887331495095, 0.4409178433670343]),\n",
    " torch.tensor([0.26733428587924035, 0.2564384629170881, 0.2761504713256853]))"
   ]
  },
  {
   "cell_type": "code",
   "execution_count": 4,
   "metadata": {},
   "outputs": [],
   "source": [
    "data = ImageDataBunch.from_folder(path,\n",
    "                                  train=f'train_data',\n",
    "                                  valid=f'valid_data',\n",
    "                                  ds_tfms=get_transforms(),\n",
    "                                  num_workers=10,\n",
    "                                  bs=256,\n",
    "                                 ).normalize(cifar100_stats)"
   ]
  },
  {
   "cell_type": "code",
   "execution_count": 5,
   "metadata": {},
   "outputs": [],
   "source": [
    "learn = Learner(data, WideResNet(num_groups=3, N=3, num_classes=100, k=6, drop_p=0.), metrics=[accuracy]).mixup()"
   ]
  },
  {
   "cell_type": "code",
   "execution_count": 6,
   "metadata": {},
   "outputs": [],
   "source": [
    "learn.load('FINAL_WRN_NO_FL');"
   ]
  },
  {
   "cell_type": "code",
   "execution_count": 7,
   "metadata": {},
   "outputs": [
    {
     "data": {
      "text/plain": [
       "tensor(0.8046)"
      ]
     },
     "execution_count": 7,
     "metadata": {},
     "output_type": "execute_result"
    }
   ],
   "source": [
    "from fastai.vision import ClassificationInterpretation\n",
    "interp = ClassificationInterpretation.from_learner(learn)\n",
    "(interp.y_true == interp.pred_class).float().mean()"
   ]
  }
 ],
 "metadata": {
  "kernelspec": {
   "display_name": "Python [conda env:.conda-torch] *",
   "language": "python",
   "name": "conda-env-.conda-torch-py"
  },
  "language_info": {
   "codemirror_mode": {
    "name": "ipython",
    "version": 3
   },
   "file_extension": ".py",
   "mimetype": "text/x-python",
   "name": "python",
   "nbconvert_exporter": "python",
   "pygments_lexer": "ipython3",
   "version": "3.7.3"
  }
 },
 "nbformat": 4,
 "nbformat_minor": 2
}
