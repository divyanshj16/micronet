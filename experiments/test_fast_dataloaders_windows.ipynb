{
 "cells": [
  {
   "cell_type": "code",
   "execution_count": 4,
   "metadata": {},
   "outputs": [],
   "source": [
    "from pathlib import Path\n",
    "import pickle\n",
    "from PIL import Image\n",
    "\n",
    "import matplotlib.pyplot as plt\n",
    "\n",
    "from fastai.vision import ImageDataBunch\n",
    "from fastai.vision import LabelLists\n",
    "from fastai.vision import get_transforms"
   ]
  },
  {
   "cell_type": "code",
   "execution_count": 5,
   "metadata": {},
   "outputs": [],
   "source": [
    "cifar100_stats = (torch.tensor([0.5070751592371323, 0.48654887331495095, 0.4409178433670343]),\n",
    " torch.tensor([0.26733428587924035, 0.2564384629170881, 0.2761504713256853]))"
   ]
  },
  {
   "cell_type": "code",
   "execution_count": 6,
   "metadata": {},
   "outputs": [],
   "source": [
    "path = Path('cifar100')\n",
    "train_folder = 'train_data'\n",
    "test_folder = 'test_data'"
   ]
  },
  {
   "cell_type": "code",
   "execution_count": 18,
   "metadata": {},
   "outputs": [],
   "source": [
    "data = ImageDataBunch.from_folder(path,\n",
    "                                  train='train_data',\n",
    "                                  valid='valid_data',\n",
    "                                  ds_tfms=get_transforms(),\n",
    "                                  num_workers=0,\n",
    "                                  bs=1024\n",
    "                                 ).normalize(cifar100_stats)\n"
   ]
  },
  {
   "cell_type": "code",
   "execution_count": 20,
   "metadata": {},
   "outputs": [
    {
     "name": "stdout",
     "output_type": "stream",
     "text": [
      "Wall time: 1.64 s\n"
     ]
    },
    {
     "data": {
      "text/plain": [
       "(tensor([[[[-1.7824e+00, -1.7855e+00, -1.7775e+00,  ...,  6.4673e-01,\n",
       "             6.6715e-01,  6.7661e-01],\n",
       "           [-1.7823e+00, -1.7877e+00, -1.7855e+00,  ...,  5.2742e-01,\n",
       "             5.2183e-01,  5.5384e-01],\n",
       "           [-1.7812e+00, -1.7824e+00, -1.7761e+00,  ...,  3.9472e-01,\n",
       "             3.8921e-01,  4.5294e-01],\n",
       "           ...,\n",
       "           [ 1.1547e+00,  1.1507e+00,  1.1475e+00,  ...,  1.1054e+00,\n",
       "             1.1314e+00,  1.1089e+00],\n",
       "           [ 1.1267e+00,  1.1230e+00,  1.1357e+00,  ...,  1.0933e+00,\n",
       "             1.1254e+00,  1.1063e+00],\n",
       "           [ 1.1251e+00,  1.1192e+00,  1.1197e+00,  ...,  1.1323e+00,\n",
       "             1.1332e+00,  1.1681e+00]],\n",
       " \n",
       "          [[-1.7471e+00, -1.7504e+00, -1.7419e+00,  ...,  8.0176e-01,\n",
       "             8.2318e-01,  8.4670e-01],\n",
       "           [-1.7471e+00, -1.7528e+00, -1.7505e+00,  ...,  6.9518e-01,\n",
       "             6.7932e-01,  7.3156e-01],\n",
       "           [-1.7459e+00, -1.7472e+00, -1.7404e+00,  ...,  5.5979e-01,\n",
       "             5.4774e-01,  6.2300e-01],\n",
       "           ...,\n",
       "           [ 1.2838e+00,  1.2797e+00,  1.2763e+00,  ...,  1.2324e+00,\n",
       "             1.2595e+00,  1.2361e+00],\n",
       "           [ 1.2546e+00,  1.2507e+00,  1.2640e+00,  ...,  1.2198e+00,\n",
       "             1.2533e+00,  1.2334e+00],\n",
       "           [ 1.2530e+00,  1.2468e+00,  1.2473e+00,  ...,  1.2605e+00,\n",
       "             1.2614e+00,  1.2978e+00]],\n",
       " \n",
       "          [[-1.4065e+00, -1.4065e+00, -1.4006e+00,  ...,  8.9299e-01,\n",
       "             9.1286e-01,  9.3467e-01],\n",
       "           [-1.4065e+00, -1.4065e+00, -1.4060e+00,  ...,  7.9444e-01,\n",
       "             7.8638e-01,  8.2568e-01],\n",
       "           [-1.4065e+00, -1.4065e+00, -1.3997e+00,  ...,  6.7093e-01,\n",
       "             6.6558e-01,  7.2791e-01],\n",
       "           ...,\n",
       "           [ 1.3574e+00,  1.3536e+00,  1.3504e+00,  ...,  1.3097e+00,\n",
       "             1.3348e+00,  1.3131e+00],\n",
       "           [ 1.3303e+00,  1.3267e+00,  1.3390e+00,  ...,  1.2980e+00,\n",
       "             1.3290e+00,  1.3106e+00],\n",
       "           [ 1.3288e+00,  1.3230e+00,  1.3236e+00,  ...,  1.3358e+00,\n",
       "             1.3366e+00,  1.3704e+00]]],\n",
       " \n",
       " \n",
       "         [[[-9.8443e-01, -4.3248e-01, -5.9566e-01,  ..., -1.1248e+00,\n",
       "            -1.2182e+00, -1.1186e+00],\n",
       "           [-8.7267e-01, -7.6736e-01, -5.6503e-01,  ..., -1.2154e+00,\n",
       "            -1.2116e+00, -1.2260e+00],\n",
       "           [-8.7780e-01, -7.0092e-01, -5.7368e-01,  ..., -1.3151e+00,\n",
       "            -8.2582e-01, -1.2330e+00],\n",
       "           ...,\n",
       "           [-1.2648e+00, -1.2614e+00, -1.1668e+00,  ..., -1.0466e+00,\n",
       "            -9.5611e-01, -1.0599e+00],\n",
       "           [-1.4061e+00, -1.3206e+00, -1.2320e+00,  ..., -1.1147e+00,\n",
       "            -1.0369e+00, -9.6879e-01],\n",
       "           [-1.3493e+00, -1.2552e+00, -1.1963e+00,  ..., -1.1142e+00,\n",
       "            -1.0795e+00, -9.6539e-01]],\n",
       " \n",
       "          [[-6.6661e-01, -7.5269e-02, -1.7254e-01,  ..., -1.0526e+00,\n",
       "            -1.1382e+00, -1.0537e+00],\n",
       "           [-5.2061e-01, -4.8770e-01, -2.7475e-01,  ..., -1.1502e+00,\n",
       "            -1.0854e+00, -1.1528e+00],\n",
       "           [-5.2291e-01, -4.3932e-01, -3.4393e-01,  ..., -1.0999e+00,\n",
       "            -6.1608e-01, -1.0038e+00],\n",
       "           ...,\n",
       "           [-1.2861e+00, -1.2262e+00, -1.1596e+00,  ..., -1.0677e+00,\n",
       "            -1.0468e+00, -1.1512e+00],\n",
       "           [-1.3199e+00, -1.1939e+00, -1.1748e+00,  ..., -1.0488e+00,\n",
       "            -1.0757e+00, -1.0547e+00],\n",
       "           [-1.1828e+00, -1.0634e+00, -1.1078e+00,  ..., -9.9225e-01,\n",
       "            -1.0636e+00, -1.0224e+00]],\n",
       " \n",
       "          [[-8.7820e-01, -4.7318e-01, -4.6367e-01,  ..., -1.2606e+00,\n",
       "            -1.3466e+00, -1.2600e+00],\n",
       "           [-8.3913e-01, -7.7414e-01, -5.7648e-01,  ..., -1.3712e+00,\n",
       "            -1.3730e+00, -1.3837e+00],\n",
       "           [-8.0910e-01, -5.9979e-01, -6.0055e-01,  ..., -1.3944e+00,\n",
       "            -1.0489e+00, -1.3321e+00],\n",
       "           ...,\n",
       "           [-1.0200e+00, -1.0147e+00, -8.7057e-01,  ..., -7.7560e-01,\n",
       "            -6.8258e-01, -7.3216e-01],\n",
       "           [-1.1192e+00, -1.0536e+00, -9.1655e-01,  ..., -8.4405e-01,\n",
       "            -7.5094e-01, -6.5136e-01],\n",
       "           [-1.0437e+00, -9.8112e-01, -8.7502e-01,  ..., -8.2694e-01,\n",
       "            -7.6012e-01, -6.2507e-01]]],\n",
       " \n",
       " \n",
       "         [[[ 1.8365e+00,  1.8380e+00,  1.8396e+00,  ..., -5.9738e-01,\n",
       "             1.3342e-01,  1.1826e+00],\n",
       "           [ 1.8438e+00,  1.8438e+00,  1.8285e+00,  ..., -6.4156e-01,\n",
       "            -2.1042e-01,  8.8584e-01],\n",
       "           [ 1.8438e+00,  1.8438e+00,  1.8248e+00,  ..., -5.8969e-01,\n",
       "            -3.8947e-01,  6.2333e-01],\n",
       "           ...,\n",
       "           [ 1.6467e+00,  1.2474e+00,  2.5265e-01,  ...,  1.8174e+00,\n",
       "             1.8305e+00,  1.8438e+00],\n",
       "           [ 1.7103e+00,  1.5494e+00,  9.9477e-01,  ...,  1.8224e+00,\n",
       "             1.8343e+00,  1.8438e+00],\n",
       "           [ 1.7443e+00,  1.7363e+00,  1.5695e+00,  ...,  1.8438e+00,\n",
       "             1.8438e+00,  1.8438e+00]],\n",
       " \n",
       "          [[ 1.9946e+00,  1.9961e+00,  1.9978e+00,  ..., -5.1176e-01,\n",
       "             2.4075e-01,  1.3230e+00],\n",
       "           [ 2.0022e+00,  2.0022e+00,  2.0022e+00,  ..., -5.2769e-01,\n",
       "            -9.3016e-02,  1.0288e+00],\n",
       "           [ 2.0022e+00,  2.0022e+00,  2.0022e+00,  ..., -5.0890e-01,\n",
       "            -2.8765e-01,  7.5516e-01],\n",
       "           ...,\n",
       "           [ 1.8509e+00,  1.3675e+00,  2.5852e-01,  ...,  1.9857e+00,\n",
       "             1.9942e+00,  2.0022e+00],\n",
       "           [ 1.9200e+00,  1.6967e+00,  1.1023e+00,  ...,  1.9799e+00,\n",
       "             1.9923e+00,  2.0022e+00],\n",
       "           [ 1.9589e+00,  1.9032e+00,  1.7282e+00,  ...,  2.0022e+00,\n",
       "             2.0022e+00,  2.0022e+00]],\n",
       " \n",
       "          [[ 2.0174e+00,  2.0189e+00,  2.0204e+00,  ..., -6.6164e-01,\n",
       "             1.6084e-01,  1.2836e+00],\n",
       "           [ 2.0246e+00,  2.0246e+00,  1.9861e+00,  ..., -6.9778e-01,\n",
       "            -1.6865e-01,  9.9316e-01],\n",
       "           [ 2.0246e+00,  2.0246e+00,  1.9696e+00,  ..., -6.5003e-01,\n",
       "            -3.5731e-01,  7.2146e-01],\n",
       "           ...,\n",
       "           [ 1.7939e+00,  1.3142e+00,  1.9559e-01,  ...,  2.0116e+00,\n",
       "             2.0246e+00,  2.0171e+00],\n",
       "           [ 1.8388e+00,  1.6671e+00,  1.0707e+00,  ...,  2.0047e+00,\n",
       "             2.0246e+00,  2.0246e+00],\n",
       "           [ 1.8353e+00,  1.8505e+00,  1.7052e+00,  ...,  2.0246e+00,\n",
       "             2.0246e+00,  2.0246e+00]]],\n",
       " \n",
       " \n",
       "         ...,\n",
       " \n",
       " \n",
       "         [[[-1.6412e+00, -1.6128e+00, -1.6515e+00,  ..., -1.6459e+00,\n",
       "            -1.6782e+00, -1.6602e+00],\n",
       "           [-1.6574e+00, -1.6271e+00, -1.6487e+00,  ..., -1.6092e+00,\n",
       "            -1.6232e+00, -1.6216e+00],\n",
       "           [-1.6295e+00, -1.5847e+00, -1.5898e+00,  ..., -1.5814e+00,\n",
       "            -1.6257e+00, -1.6194e+00],\n",
       "           ...,\n",
       "           [ 1.8416e-01,  1.8209e-01,  3.1417e-01,  ...,  1.2308e+00,\n",
       "             1.0995e+00,  8.2061e-01],\n",
       "           [ 3.9753e-01,  4.0684e-01,  4.4154e-01,  ...,  1.0898e+00,\n",
       "             1.0551e+00,  8.5773e-01],\n",
       "           [ 4.6630e-01,  5.1002e-01,  3.4621e-01,  ...,  1.1505e+00,\n",
       "             1.1037e+00,  8.8396e-01]],\n",
       " \n",
       "          [[ 3.5137e-01,  4.6287e-01,  4.5328e-01,  ...,  3.9951e-01,\n",
       "             3.6952e-01,  3.9098e-01],\n",
       "           [ 3.1358e-01,  4.2749e-01,  4.5407e-01,  ...,  4.8598e-01,\n",
       "             4.8667e-01,  4.7828e-01],\n",
       "           [ 3.7631e-01,  5.0632e-01,  5.4937e-01,  ...,  5.5316e-01,\n",
       "             5.1343e-01,  5.1643e-01],\n",
       "           ...,\n",
       "           [ 1.1107e+00,  1.1022e+00,  1.1962e+00,  ...,  1.5558e+00,\n",
       "             1.4965e+00,  1.2821e+00],\n",
       "           [ 1.1552e+00,  1.1402e+00,  1.2261e+00,  ...,  1.4278e+00,\n",
       "             1.4325e+00,  1.2839e+00],\n",
       "           [ 1.1265e+00,  1.1219e+00,  1.0951e+00,  ...,  1.4769e+00,\n",
       "             1.4837e+00,  1.3305e+00]],\n",
       " \n",
       "          [[ 6.2480e-01,  6.8486e-01,  6.5008e-01,  ...,  6.8397e-01,\n",
       "             6.6171e-01,  6.7211e-01],\n",
       "           [ 6.0351e-01,  6.6141e-01,  6.5197e-01,  ...,  7.5146e-01,\n",
       "             7.5413e-01,  7.4397e-01],\n",
       "           [ 6.2561e-01,  7.1639e-01,  7.4192e-01,  ...,  8.1146e-01,\n",
       "             7.7506e-01,  7.7781e-01],\n",
       "           ...,\n",
       "           [ 1.2045e+00,  1.1964e+00,  1.2817e+00,  ...,  1.6466e+00,\n",
       "             1.5980e+00,  1.4144e+00],\n",
       "           [ 1.2550e+00,  1.2484e+00,  1.3061e+00,  ...,  1.5208e+00,\n",
       "             1.5221e+00,  1.3872e+00],\n",
       "           [ 1.2596e+00,  1.2719e+00,  1.2104e+00,  ...,  1.5673e+00,\n",
       "             1.5793e+00,  1.4474e+00]]],\n",
       " \n",
       " \n",
       "         [[[-1.4654e+00, -1.1299e+00, -5.5693e-01,  ..., -1.1105e+00,\n",
       "            -1.4684e+00, -1.4744e+00],\n",
       "           [-1.1192e+00, -2.8594e-01,  4.9807e-01,  ..., -6.0077e-01,\n",
       "            -1.3642e+00, -1.5199e+00],\n",
       "           [-4.0863e-01,  5.5325e-01,  1.0693e+00,  ..., -2.4352e-01,\n",
       "            -1.2114e+00, -1.4609e+00],\n",
       "           ...,\n",
       "           [ 8.0653e-01,  8.0263e-01,  8.2448e-01,  ...,  1.6956e+00,\n",
       "             1.5152e+00,  1.2268e+00],\n",
       "           [ 1.1130e+00,  1.1287e+00,  1.1353e+00,  ...,  1.4702e+00,\n",
       "             1.2921e+00,  1.1641e+00],\n",
       "           [ 1.1884e+00,  1.1843e+00,  1.2263e+00,  ...,  1.4299e+00,\n",
       "             1.3928e+00,  1.5029e+00]],\n",
       " \n",
       "          [[-1.5120e+00, -1.4866e+00, -1.3470e+00,  ..., -1.6496e+00,\n",
       "            -1.6690e+00, -1.5314e+00],\n",
       "           [-1.4788e+00, -1.1369e+00, -9.3669e-01,  ..., -1.4132e+00,\n",
       "            -1.6199e+00, -1.4876e+00],\n",
       "           [-1.1652e+00, -7.5408e-01, -7.6508e-01,  ..., -1.2864e+00,\n",
       "            -1.6309e+00, -1.5220e+00],\n",
       "           ...,\n",
       "           [-1.2844e+00, -1.2924e+00, -1.3120e+00,  ..., -4.9603e-01,\n",
       "            -9.2086e-01, -1.2260e+00],\n",
       "           [-9.1723e-01, -9.0077e-01, -9.6102e-01,  ..., -7.1173e-01,\n",
       "            -1.0878e+00, -1.2504e+00],\n",
       "           [-7.5854e-01, -7.5568e-01, -8.0780e-01,  ..., -9.3018e-01,\n",
       "            -1.0079e+00, -8.2842e-01]],\n",
       " \n",
       "          [[-1.5194e+00, -1.3931e+00, -1.1116e+00,  ..., -1.2312e+00,\n",
       "            -1.3944e+00, -1.3740e+00],\n",
       "           [-1.3754e+00, -8.5549e-01, -4.2317e-01,  ..., -9.3305e-01,\n",
       "            -1.3477e+00, -1.3618e+00],\n",
       "           [-9.3530e-01, -3.0490e-01, -5.6513e-02,  ..., -7.5733e-01,\n",
       "            -1.3323e+00, -1.3607e+00],\n",
       "           ...,\n",
       "           [-5.2993e-01, -5.2925e-01, -4.6881e-01,  ...,  4.1745e-01,\n",
       "            -9.3849e-02, -4.8121e-01],\n",
       "           [-1.7170e-01, -1.5445e-01, -1.4121e-01,  ...,  1.6781e-01,\n",
       "            -2.8568e-01, -5.0335e-01],\n",
       "           [-2.1446e-02, -2.0602e-02,  1.7580e-03,  ..., -3.1894e-02,\n",
       "            -2.0672e-01, -1.0876e-01]]],\n",
       " \n",
       " \n",
       "         [[[-1.1821e+00, -1.4930e+00, -1.3278e+00,  ..., -1.4945e+00,\n",
       "            -1.5684e+00, -1.6869e+00],\n",
       "           [-1.1691e+00, -1.4967e+00, -1.3146e+00,  ..., -1.4503e+00,\n",
       "            -1.5419e+00, -1.6376e+00],\n",
       "           [-1.2102e+00, -1.4948e+00, -1.4445e+00,  ..., -1.4026e+00,\n",
       "            -1.5050e+00, -1.6075e+00],\n",
       "           ...,\n",
       "           [-8.5359e-01, -6.3593e-01, -9.7282e-01,  ..., -1.6233e+00,\n",
       "            -1.2465e+00, -6.0876e-01],\n",
       "           [ 7.1787e-01,  6.7377e-01,  5.2699e-01,  ..., -9.8843e-01,\n",
       "            -4.8868e-01, -1.8591e-01],\n",
       "           [-8.3132e-01, -4.6339e-01, -6.2306e-01,  ...,  2.1500e-01,\n",
       "             4.0226e-01,  3.2292e-01]],\n",
       " \n",
       "          [[-8.0748e-01, -1.2344e+00, -1.0711e+00,  ..., -1.4171e+00,\n",
       "            -1.4562e+00, -1.5318e+00],\n",
       "           [-7.7688e-01, -1.2358e+00, -1.0565e+00,  ..., -1.3613e+00,\n",
       "            -1.4057e+00, -1.4576e+00],\n",
       "           [-8.7275e-01, -1.2411e+00, -1.2056e+00,  ..., -1.2954e+00,\n",
       "            -1.3435e+00, -1.4036e+00],\n",
       "           ...,\n",
       "           [-7.0938e-01, -4.7459e-01, -8.3738e-01,  ..., -1.4166e+00,\n",
       "            -9.0178e-01, -1.1936e-01],\n",
       "           [ 8.2137e-01,  7.8193e-01,  6.6460e-01,  ..., -7.8235e-01,\n",
       "            -1.1280e-01,  2.9549e-01],\n",
       "           [-7.0454e-01, -3.2050e-01, -4.9204e-01,  ...,  3.8190e-01,\n",
       "             6.9393e-01,  6.6821e-01]],\n",
       " \n",
       "          [[-8.1926e-01, -1.2640e+00, -1.1190e+00,  ..., -1.1110e+00,\n",
       "            -1.2246e+00, -1.3098e+00],\n",
       "           [-7.7638e-01, -1.2618e+00, -1.1021e+00,  ..., -1.0484e+00,\n",
       "            -1.1706e+00, -1.2408e+00],\n",
       "           [-8.9580e-01, -1.2790e+00, -1.2705e+00,  ..., -1.0009e+00,\n",
       "            -1.0936e+00, -1.1711e+00],\n",
       "           ...,\n",
       "           [-6.0375e-01, -3.9232e-01, -6.5800e-01,  ..., -1.1379e+00,\n",
       "            -6.5967e-01,  3.1680e-02],\n",
       "           [ 8.6411e-01,  8.3017e-01,  7.6941e-01,  ..., -5.2659e-01,\n",
       "             1.0040e-01,  4.2928e-01],\n",
       "           [-5.8995e-01, -2.3726e-01, -3.3152e-01,  ...,  5.8515e-01,\n",
       "             8.7869e-01,  8.0641e-01]]]], device='cuda:0'),\n",
       " tensor([ 2, 32, 86,  ..., 64, 59, 34], device='cuda:0'))"
      ]
     },
     "execution_count": 20,
     "metadata": {},
     "output_type": "execute_result"
    }
   ],
   "source": [
    "%%time\n",
    "## num_workers=0\n",
    "next(iter(data.train_dl))"
   ]
  },
  {
   "cell_type": "code",
   "execution_count": 22,
   "metadata": {},
   "outputs": [],
   "source": [
    "data = ImageDataBunch.from_folder(path,\n",
    "                                  train='train_data',\n",
    "                                  valid='valid_data',\n",
    "                                  ds_tfms=get_transforms(),\n",
    "                                  num_workers=4,\n",
    "                                  bs=1024\n",
    "                                 ).normalize(cifar100_stats)"
   ]
  },
  {
   "cell_type": "code",
   "execution_count": 57,
   "metadata": {},
   "outputs": [
    {
     "name": "stdout",
     "output_type": "stream",
     "text": [
      "Wall time: 15.5 s\n"
     ]
    }
   ],
   "source": [
    "%%time\n",
    "## num_workers=4\n",
    "next(iter(data.train_dl))"
   ]
  },
  {
   "cell_type": "code",
   "execution_count": null,
   "metadata": {},
   "outputs": [],
   "source": []
  },
  {
   "cell_type": "code",
   "execution_count": null,
   "metadata": {},
   "outputs": [],
   "source": []
  },
  {
   "cell_type": "code",
   "execution_count": 50,
   "metadata": {},
   "outputs": [],
   "source": [
    "import torch\n",
    "from torch.utils.data import Dataset, DataLoader, IterableDataset\n",
    "from PIL import Image\n",
    "import numpy as np"
   ]
  },
  {
   "cell_type": "code",
   "execution_count": 69,
   "metadata": {},
   "outputs": [],
   "source": [
    "def unpickle(file):\n",
    "    with open(file, 'rb') as f:\n",
    "        data = pickle.load(f, encoding='latin1')\n",
    "    return data"
   ]
  },
  {
   "cell_type": "code",
   "execution_count": 71,
   "metadata": {},
   "outputs": [],
   "source": [
    "path = Path('cifar100')\n",
    "train_file = 'train'\n",
    "test_file = 'test'"
   ]
  },
  {
   "cell_type": "code",
   "execution_count": 77,
   "metadata": {},
   "outputs": [],
   "source": [
    "class Cifar100Dataset(Dataset):\n",
    "    def __init__(self, path, folder):\n",
    "        self.files = [file for directory in (path / folder).ls() for file in directory.ls()]\n",
    "        \n",
    "    def __len__(self):\n",
    "        return len(self.files)\n",
    "    \n",
    "    def __getitem__(self, i):\n",
    "        image = torch.tensor(np.array(Image.open(self.files[i]))).permute(2, 0 ,1)\n",
    "        return image, int(self.files[i].parent.stem)"
   ]
  },
  {
   "cell_type": "code",
   "execution_count": 80,
   "metadata": {},
   "outputs": [],
   "source": [
    "train_ds = Cifar100Dataset(path, train_folder)"
   ]
  },
  {
   "cell_type": "code",
   "execution_count": 85,
   "metadata": {},
   "outputs": [],
   "source": [
    "train_dl = DataLoader(train_ds, batch_size=1024, num_workers=4, shuffle=True)"
   ]
  },
  {
   "cell_type": "code",
   "execution_count": 86,
   "metadata": {},
   "outputs": [
    {
     "ename": "BrokenPipeError",
     "evalue": "[Errno 32] Broken pipe",
     "output_type": "error",
     "traceback": [
      "\u001b[1;31m---------------------------------------------------------------------------\u001b[0m",
      "\u001b[1;31mBrokenPipeError\u001b[0m                           Traceback (most recent call last)",
      "\u001b[1;32m<timed eval>\u001b[0m in \u001b[0;36m<module>\u001b[1;34m\u001b[0m\n",
      "\u001b[1;32m~\\Anaconda3\\envs\\pytorch\\lib\\site-packages\\torch\\utils\\data\\dataloader.py\u001b[0m in \u001b[0;36m__iter__\u001b[1;34m(self)\u001b[0m\n\u001b[0;32m    240\u001b[0m             \u001b[1;32mreturn\u001b[0m \u001b[0m_SingleProcessDataLoaderIter\u001b[0m\u001b[1;33m(\u001b[0m\u001b[0mself\u001b[0m\u001b[1;33m)\u001b[0m\u001b[1;33m\u001b[0m\u001b[1;33m\u001b[0m\u001b[0m\n\u001b[0;32m    241\u001b[0m         \u001b[1;32melse\u001b[0m\u001b[1;33m:\u001b[0m\u001b[1;33m\u001b[0m\u001b[1;33m\u001b[0m\u001b[0m\n\u001b[1;32m--> 242\u001b[1;33m             \u001b[1;32mreturn\u001b[0m \u001b[0m_MultiProcessingDataLoaderIter\u001b[0m\u001b[1;33m(\u001b[0m\u001b[0mself\u001b[0m\u001b[1;33m)\u001b[0m\u001b[1;33m\u001b[0m\u001b[1;33m\u001b[0m\u001b[0m\n\u001b[0m\u001b[0;32m    243\u001b[0m \u001b[1;33m\u001b[0m\u001b[0m\n\u001b[0;32m    244\u001b[0m     \u001b[1;33m@\u001b[0m\u001b[0mproperty\u001b[0m\u001b[1;33m\u001b[0m\u001b[1;33m\u001b[0m\u001b[0m\n",
      "\u001b[1;32m~\\Anaconda3\\envs\\pytorch\\lib\\site-packages\\torch\\utils\\data\\dataloader.py\u001b[0m in \u001b[0;36m__init__\u001b[1;34m(self, loader)\u001b[0m\n\u001b[0;32m    639\u001b[0m             \u001b[1;31m#     before it starts, and __del__ tries to join but will get:\u001b[0m\u001b[1;33m\u001b[0m\u001b[1;33m\u001b[0m\u001b[1;33m\u001b[0m\u001b[0m\n\u001b[0;32m    640\u001b[0m             \u001b[1;31m#     AssertionError: can only join a started process.\u001b[0m\u001b[1;33m\u001b[0m\u001b[1;33m\u001b[0m\u001b[1;33m\u001b[0m\u001b[0m\n\u001b[1;32m--> 641\u001b[1;33m             \u001b[0mw\u001b[0m\u001b[1;33m.\u001b[0m\u001b[0mstart\u001b[0m\u001b[1;33m(\u001b[0m\u001b[1;33m)\u001b[0m\u001b[1;33m\u001b[0m\u001b[1;33m\u001b[0m\u001b[0m\n\u001b[0m\u001b[0;32m    642\u001b[0m             \u001b[0mself\u001b[0m\u001b[1;33m.\u001b[0m\u001b[0mindex_queues\u001b[0m\u001b[1;33m.\u001b[0m\u001b[0mappend\u001b[0m\u001b[1;33m(\u001b[0m\u001b[0mindex_queue\u001b[0m\u001b[1;33m)\u001b[0m\u001b[1;33m\u001b[0m\u001b[1;33m\u001b[0m\u001b[0m\n\u001b[0;32m    643\u001b[0m             \u001b[0mself\u001b[0m\u001b[1;33m.\u001b[0m\u001b[0mworkers\u001b[0m\u001b[1;33m.\u001b[0m\u001b[0mappend\u001b[0m\u001b[1;33m(\u001b[0m\u001b[0mw\u001b[0m\u001b[1;33m)\u001b[0m\u001b[1;33m\u001b[0m\u001b[1;33m\u001b[0m\u001b[0m\n",
      "\u001b[1;32m~\\Anaconda3\\envs\\pytorch\\lib\\multiprocessing\\process.py\u001b[0m in \u001b[0;36mstart\u001b[1;34m(self)\u001b[0m\n\u001b[0;32m    110\u001b[0m                \u001b[1;34m'daemonic processes are not allowed to have children'\u001b[0m\u001b[1;33m\u001b[0m\u001b[1;33m\u001b[0m\u001b[0m\n\u001b[0;32m    111\u001b[0m         \u001b[0m_cleanup\u001b[0m\u001b[1;33m(\u001b[0m\u001b[1;33m)\u001b[0m\u001b[1;33m\u001b[0m\u001b[1;33m\u001b[0m\u001b[0m\n\u001b[1;32m--> 112\u001b[1;33m         \u001b[0mself\u001b[0m\u001b[1;33m.\u001b[0m\u001b[0m_popen\u001b[0m \u001b[1;33m=\u001b[0m \u001b[0mself\u001b[0m\u001b[1;33m.\u001b[0m\u001b[0m_Popen\u001b[0m\u001b[1;33m(\u001b[0m\u001b[0mself\u001b[0m\u001b[1;33m)\u001b[0m\u001b[1;33m\u001b[0m\u001b[1;33m\u001b[0m\u001b[0m\n\u001b[0m\u001b[0;32m    113\u001b[0m         \u001b[0mself\u001b[0m\u001b[1;33m.\u001b[0m\u001b[0m_sentinel\u001b[0m \u001b[1;33m=\u001b[0m \u001b[0mself\u001b[0m\u001b[1;33m.\u001b[0m\u001b[0m_popen\u001b[0m\u001b[1;33m.\u001b[0m\u001b[0msentinel\u001b[0m\u001b[1;33m\u001b[0m\u001b[1;33m\u001b[0m\u001b[0m\n\u001b[0;32m    114\u001b[0m         \u001b[1;31m# Avoid a refcycle if the target function holds an indirect\u001b[0m\u001b[1;33m\u001b[0m\u001b[1;33m\u001b[0m\u001b[1;33m\u001b[0m\u001b[0m\n",
      "\u001b[1;32m~\\Anaconda3\\envs\\pytorch\\lib\\multiprocessing\\context.py\u001b[0m in \u001b[0;36m_Popen\u001b[1;34m(process_obj)\u001b[0m\n\u001b[0;32m    221\u001b[0m     \u001b[1;33m@\u001b[0m\u001b[0mstaticmethod\u001b[0m\u001b[1;33m\u001b[0m\u001b[1;33m\u001b[0m\u001b[0m\n\u001b[0;32m    222\u001b[0m     \u001b[1;32mdef\u001b[0m \u001b[0m_Popen\u001b[0m\u001b[1;33m(\u001b[0m\u001b[0mprocess_obj\u001b[0m\u001b[1;33m)\u001b[0m\u001b[1;33m:\u001b[0m\u001b[1;33m\u001b[0m\u001b[1;33m\u001b[0m\u001b[0m\n\u001b[1;32m--> 223\u001b[1;33m         \u001b[1;32mreturn\u001b[0m \u001b[0m_default_context\u001b[0m\u001b[1;33m.\u001b[0m\u001b[0mget_context\u001b[0m\u001b[1;33m(\u001b[0m\u001b[1;33m)\u001b[0m\u001b[1;33m.\u001b[0m\u001b[0mProcess\u001b[0m\u001b[1;33m.\u001b[0m\u001b[0m_Popen\u001b[0m\u001b[1;33m(\u001b[0m\u001b[0mprocess_obj\u001b[0m\u001b[1;33m)\u001b[0m\u001b[1;33m\u001b[0m\u001b[1;33m\u001b[0m\u001b[0m\n\u001b[0m\u001b[0;32m    224\u001b[0m \u001b[1;33m\u001b[0m\u001b[0m\n\u001b[0;32m    225\u001b[0m \u001b[1;32mclass\u001b[0m \u001b[0mDefaultContext\u001b[0m\u001b[1;33m(\u001b[0m\u001b[0mBaseContext\u001b[0m\u001b[1;33m)\u001b[0m\u001b[1;33m:\u001b[0m\u001b[1;33m\u001b[0m\u001b[1;33m\u001b[0m\u001b[0m\n",
      "\u001b[1;32m~\\Anaconda3\\envs\\pytorch\\lib\\multiprocessing\\context.py\u001b[0m in \u001b[0;36m_Popen\u001b[1;34m(process_obj)\u001b[0m\n\u001b[0;32m    320\u001b[0m         \u001b[1;32mdef\u001b[0m \u001b[0m_Popen\u001b[0m\u001b[1;33m(\u001b[0m\u001b[0mprocess_obj\u001b[0m\u001b[1;33m)\u001b[0m\u001b[1;33m:\u001b[0m\u001b[1;33m\u001b[0m\u001b[1;33m\u001b[0m\u001b[0m\n\u001b[0;32m    321\u001b[0m             \u001b[1;32mfrom\u001b[0m \u001b[1;33m.\u001b[0m\u001b[0mpopen_spawn_win32\u001b[0m \u001b[1;32mimport\u001b[0m \u001b[0mPopen\u001b[0m\u001b[1;33m\u001b[0m\u001b[1;33m\u001b[0m\u001b[0m\n\u001b[1;32m--> 322\u001b[1;33m             \u001b[1;32mreturn\u001b[0m \u001b[0mPopen\u001b[0m\u001b[1;33m(\u001b[0m\u001b[0mprocess_obj\u001b[0m\u001b[1;33m)\u001b[0m\u001b[1;33m\u001b[0m\u001b[1;33m\u001b[0m\u001b[0m\n\u001b[0m\u001b[0;32m    323\u001b[0m \u001b[1;33m\u001b[0m\u001b[0m\n\u001b[0;32m    324\u001b[0m     \u001b[1;32mclass\u001b[0m \u001b[0mSpawnContext\u001b[0m\u001b[1;33m(\u001b[0m\u001b[0mBaseContext\u001b[0m\u001b[1;33m)\u001b[0m\u001b[1;33m:\u001b[0m\u001b[1;33m\u001b[0m\u001b[1;33m\u001b[0m\u001b[0m\n",
      "\u001b[1;32m~\\Anaconda3\\envs\\pytorch\\lib\\multiprocessing\\popen_spawn_win32.py\u001b[0m in \u001b[0;36m__init__\u001b[1;34m(self, process_obj)\u001b[0m\n\u001b[0;32m     87\u001b[0m             \u001b[1;32mtry\u001b[0m\u001b[1;33m:\u001b[0m\u001b[1;33m\u001b[0m\u001b[1;33m\u001b[0m\u001b[0m\n\u001b[0;32m     88\u001b[0m                 \u001b[0mreduction\u001b[0m\u001b[1;33m.\u001b[0m\u001b[0mdump\u001b[0m\u001b[1;33m(\u001b[0m\u001b[0mprep_data\u001b[0m\u001b[1;33m,\u001b[0m \u001b[0mto_child\u001b[0m\u001b[1;33m)\u001b[0m\u001b[1;33m\u001b[0m\u001b[1;33m\u001b[0m\u001b[0m\n\u001b[1;32m---> 89\u001b[1;33m                 \u001b[0mreduction\u001b[0m\u001b[1;33m.\u001b[0m\u001b[0mdump\u001b[0m\u001b[1;33m(\u001b[0m\u001b[0mprocess_obj\u001b[0m\u001b[1;33m,\u001b[0m \u001b[0mto_child\u001b[0m\u001b[1;33m)\u001b[0m\u001b[1;33m\u001b[0m\u001b[1;33m\u001b[0m\u001b[0m\n\u001b[0m\u001b[0;32m     90\u001b[0m             \u001b[1;32mfinally\u001b[0m\u001b[1;33m:\u001b[0m\u001b[1;33m\u001b[0m\u001b[1;33m\u001b[0m\u001b[0m\n\u001b[0;32m     91\u001b[0m                 \u001b[0mset_spawning_popen\u001b[0m\u001b[1;33m(\u001b[0m\u001b[1;32mNone\u001b[0m\u001b[1;33m)\u001b[0m\u001b[1;33m\u001b[0m\u001b[1;33m\u001b[0m\u001b[0m\n",
      "\u001b[1;32m~\\Anaconda3\\envs\\pytorch\\lib\\multiprocessing\\reduction.py\u001b[0m in \u001b[0;36mdump\u001b[1;34m(obj, file, protocol)\u001b[0m\n\u001b[0;32m     58\u001b[0m \u001b[1;32mdef\u001b[0m \u001b[0mdump\u001b[0m\u001b[1;33m(\u001b[0m\u001b[0mobj\u001b[0m\u001b[1;33m,\u001b[0m \u001b[0mfile\u001b[0m\u001b[1;33m,\u001b[0m \u001b[0mprotocol\u001b[0m\u001b[1;33m=\u001b[0m\u001b[1;32mNone\u001b[0m\u001b[1;33m)\u001b[0m\u001b[1;33m:\u001b[0m\u001b[1;33m\u001b[0m\u001b[1;33m\u001b[0m\u001b[0m\n\u001b[0;32m     59\u001b[0m     \u001b[1;34m'''Replacement for pickle.dump() using ForkingPickler.'''\u001b[0m\u001b[1;33m\u001b[0m\u001b[1;33m\u001b[0m\u001b[0m\n\u001b[1;32m---> 60\u001b[1;33m     \u001b[0mForkingPickler\u001b[0m\u001b[1;33m(\u001b[0m\u001b[0mfile\u001b[0m\u001b[1;33m,\u001b[0m \u001b[0mprotocol\u001b[0m\u001b[1;33m)\u001b[0m\u001b[1;33m.\u001b[0m\u001b[0mdump\u001b[0m\u001b[1;33m(\u001b[0m\u001b[0mobj\u001b[0m\u001b[1;33m)\u001b[0m\u001b[1;33m\u001b[0m\u001b[1;33m\u001b[0m\u001b[0m\n\u001b[0m\u001b[0;32m     61\u001b[0m \u001b[1;33m\u001b[0m\u001b[0m\n\u001b[0;32m     62\u001b[0m \u001b[1;31m#\u001b[0m\u001b[1;33m\u001b[0m\u001b[1;33m\u001b[0m\u001b[1;33m\u001b[0m\u001b[0m\n",
      "\u001b[1;31mBrokenPipeError\u001b[0m: [Errno 32] Broken pipe"
     ]
    }
   ],
   "source": [
    "%%time\n",
    "next(iter(train_dl))"
   ]
  },
  {
   "cell_type": "code",
   "execution_count": null,
   "metadata": {},
   "outputs": [],
   "source": []
  },
  {
   "cell_type": "code",
   "execution_count": 107,
   "metadata": {},
   "outputs": [],
   "source": [
    "def read_files(files):\n",
    "    images = [torch.tensor(np.array(Image.open(i))) for i in files]\n",
    "    yield images"
   ]
  },
  {
   "cell_type": "code",
   "execution_count": 108,
   "metadata": {},
   "outputs": [],
   "source": [
    "class Cifar100Dataset(IterableDataset):\n",
    "    def __init__(self, path, folder, start, end):\n",
    "        self.files = [file for directory in (path / folder).ls() for file in directory.ls()]\n",
    "        self.start = start\n",
    "        self.end = end\n",
    "    \n",
    "    def __iter__(self):\n",
    "        worker_info = torch.utils.data.get_worker_info()\n",
    "        if worker_info is None:\n",
    "            return read_files(self.files[self.start:self.end])\n",
    "        else:\n",
    "            per_worker = int(math.ceil((self.end - self.start) / float(worker_info.num_workers)))\n",
    "            worker_id = worker_info.id\n",
    "            iter_start = self.start + worker_id * per_worker\n",
    "            iter_end = min(iter_start + per_worker, self.end)\n",
    "            return iter(read_files(self.files[iter_start:iter_end]))"
   ]
  },
  {
   "cell_type": "code",
   "execution_count": 131,
   "metadata": {},
   "outputs": [],
   "source": [
    "ds = Cifar100Dataset(path, train_folder, start=0, end=1024)"
   ]
  },
  {
   "cell_type": "code",
   "execution_count": 148,
   "metadata": {},
   "outputs": [],
   "source": [
    "train_dl = DataLoader(ds, batch_size=1, num_workers=0)"
   ]
  },
  {
   "cell_type": "code",
   "execution_count": 149,
   "metadata": {},
   "outputs": [
    {
     "name": "stdout",
     "output_type": "stream",
     "text": [
      "Wall time: 692 ms\n"
     ]
    }
   ],
   "source": [
    "%%time\n",
    "xx = next(iter(train_dl))"
   ]
  },
  {
   "cell_type": "code",
   "execution_count": 150,
   "metadata": {},
   "outputs": [
    {
     "data": {
      "text/plain": [
       "1024"
      ]
     },
     "execution_count": 150,
     "metadata": {},
     "output_type": "execute_result"
    }
   ],
   "source": [
    "len(xx)"
   ]
  },
  {
   "cell_type": "code",
   "execution_count": 139,
   "metadata": {},
   "outputs": [],
   "source": [
    "train_dl = DataLoader(ds, batch_size=1, num_workers=2)\n"
   ]
  },
  {
   "cell_type": "code",
   "execution_count": 140,
   "metadata": {},
   "outputs": [
    {
     "name": "stderr",
     "output_type": "stream",
     "text": [
      "Exception ignored in: <function _MultiProcessingDataLoaderIter.__del__ at 0x000001F99F5CB9D8>\n",
      "Traceback (most recent call last):\n",
      "  File \"C:\\Users\\Divyansh J\\Anaconda3\\envs\\pytorch\\lib\\site-packages\\torch\\utils\\data\\dataloader.py\", line 883, in __del__\n",
      "    self._shutdown_workers()\n",
      "  File \"C:\\Users\\Divyansh J\\Anaconda3\\envs\\pytorch\\lib\\site-packages\\torch\\utils\\data\\dataloader.py\", line 860, in _shutdown_workers\n",
      "    if self.workers_status[worker_id]:\n",
      "IndexError: list index out of range\n"
     ]
    },
    {
     "ename": "BrokenPipeError",
     "evalue": "[Errno 32] Broken pipe",
     "output_type": "error",
     "traceback": [
      "\u001b[1;31m---------------------------------------------------------------------------\u001b[0m",
      "\u001b[1;31mBrokenPipeError\u001b[0m                           Traceback (most recent call last)",
      "\u001b[1;32m<timed exec>\u001b[0m in \u001b[0;36m<module>\u001b[1;34m\u001b[0m\n",
      "\u001b[1;32m~\\Anaconda3\\envs\\pytorch\\lib\\site-packages\\torch\\utils\\data\\dataloader.py\u001b[0m in \u001b[0;36m__iter__\u001b[1;34m(self)\u001b[0m\n\u001b[0;32m    240\u001b[0m             \u001b[1;32mreturn\u001b[0m \u001b[0m_SingleProcessDataLoaderIter\u001b[0m\u001b[1;33m(\u001b[0m\u001b[0mself\u001b[0m\u001b[1;33m)\u001b[0m\u001b[1;33m\u001b[0m\u001b[1;33m\u001b[0m\u001b[0m\n\u001b[0;32m    241\u001b[0m         \u001b[1;32melse\u001b[0m\u001b[1;33m:\u001b[0m\u001b[1;33m\u001b[0m\u001b[1;33m\u001b[0m\u001b[0m\n\u001b[1;32m--> 242\u001b[1;33m             \u001b[1;32mreturn\u001b[0m \u001b[0m_MultiProcessingDataLoaderIter\u001b[0m\u001b[1;33m(\u001b[0m\u001b[0mself\u001b[0m\u001b[1;33m)\u001b[0m\u001b[1;33m\u001b[0m\u001b[1;33m\u001b[0m\u001b[0m\n\u001b[0m\u001b[0;32m    243\u001b[0m \u001b[1;33m\u001b[0m\u001b[0m\n\u001b[0;32m    244\u001b[0m     \u001b[1;33m@\u001b[0m\u001b[0mproperty\u001b[0m\u001b[1;33m\u001b[0m\u001b[1;33m\u001b[0m\u001b[0m\n",
      "\u001b[1;32m~\\Anaconda3\\envs\\pytorch\\lib\\site-packages\\torch\\utils\\data\\dataloader.py\u001b[0m in \u001b[0;36m__init__\u001b[1;34m(self, loader)\u001b[0m\n\u001b[0;32m    639\u001b[0m             \u001b[1;31m#     before it starts, and __del__ tries to join but will get:\u001b[0m\u001b[1;33m\u001b[0m\u001b[1;33m\u001b[0m\u001b[1;33m\u001b[0m\u001b[0m\n\u001b[0;32m    640\u001b[0m             \u001b[1;31m#     AssertionError: can only join a started process.\u001b[0m\u001b[1;33m\u001b[0m\u001b[1;33m\u001b[0m\u001b[1;33m\u001b[0m\u001b[0m\n\u001b[1;32m--> 641\u001b[1;33m             \u001b[0mw\u001b[0m\u001b[1;33m.\u001b[0m\u001b[0mstart\u001b[0m\u001b[1;33m(\u001b[0m\u001b[1;33m)\u001b[0m\u001b[1;33m\u001b[0m\u001b[1;33m\u001b[0m\u001b[0m\n\u001b[0m\u001b[0;32m    642\u001b[0m             \u001b[0mself\u001b[0m\u001b[1;33m.\u001b[0m\u001b[0mindex_queues\u001b[0m\u001b[1;33m.\u001b[0m\u001b[0mappend\u001b[0m\u001b[1;33m(\u001b[0m\u001b[0mindex_queue\u001b[0m\u001b[1;33m)\u001b[0m\u001b[1;33m\u001b[0m\u001b[1;33m\u001b[0m\u001b[0m\n\u001b[0;32m    643\u001b[0m             \u001b[0mself\u001b[0m\u001b[1;33m.\u001b[0m\u001b[0mworkers\u001b[0m\u001b[1;33m.\u001b[0m\u001b[0mappend\u001b[0m\u001b[1;33m(\u001b[0m\u001b[0mw\u001b[0m\u001b[1;33m)\u001b[0m\u001b[1;33m\u001b[0m\u001b[1;33m\u001b[0m\u001b[0m\n",
      "\u001b[1;32m~\\Anaconda3\\envs\\pytorch\\lib\\multiprocessing\\process.py\u001b[0m in \u001b[0;36mstart\u001b[1;34m(self)\u001b[0m\n\u001b[0;32m    110\u001b[0m                \u001b[1;34m'daemonic processes are not allowed to have children'\u001b[0m\u001b[1;33m\u001b[0m\u001b[1;33m\u001b[0m\u001b[0m\n\u001b[0;32m    111\u001b[0m         \u001b[0m_cleanup\u001b[0m\u001b[1;33m(\u001b[0m\u001b[1;33m)\u001b[0m\u001b[1;33m\u001b[0m\u001b[1;33m\u001b[0m\u001b[0m\n\u001b[1;32m--> 112\u001b[1;33m         \u001b[0mself\u001b[0m\u001b[1;33m.\u001b[0m\u001b[0m_popen\u001b[0m \u001b[1;33m=\u001b[0m \u001b[0mself\u001b[0m\u001b[1;33m.\u001b[0m\u001b[0m_Popen\u001b[0m\u001b[1;33m(\u001b[0m\u001b[0mself\u001b[0m\u001b[1;33m)\u001b[0m\u001b[1;33m\u001b[0m\u001b[1;33m\u001b[0m\u001b[0m\n\u001b[0m\u001b[0;32m    113\u001b[0m         \u001b[0mself\u001b[0m\u001b[1;33m.\u001b[0m\u001b[0m_sentinel\u001b[0m \u001b[1;33m=\u001b[0m \u001b[0mself\u001b[0m\u001b[1;33m.\u001b[0m\u001b[0m_popen\u001b[0m\u001b[1;33m.\u001b[0m\u001b[0msentinel\u001b[0m\u001b[1;33m\u001b[0m\u001b[1;33m\u001b[0m\u001b[0m\n\u001b[0;32m    114\u001b[0m         \u001b[1;31m# Avoid a refcycle if the target function holds an indirect\u001b[0m\u001b[1;33m\u001b[0m\u001b[1;33m\u001b[0m\u001b[1;33m\u001b[0m\u001b[0m\n",
      "\u001b[1;32m~\\Anaconda3\\envs\\pytorch\\lib\\multiprocessing\\context.py\u001b[0m in \u001b[0;36m_Popen\u001b[1;34m(process_obj)\u001b[0m\n\u001b[0;32m    221\u001b[0m     \u001b[1;33m@\u001b[0m\u001b[0mstaticmethod\u001b[0m\u001b[1;33m\u001b[0m\u001b[1;33m\u001b[0m\u001b[0m\n\u001b[0;32m    222\u001b[0m     \u001b[1;32mdef\u001b[0m \u001b[0m_Popen\u001b[0m\u001b[1;33m(\u001b[0m\u001b[0mprocess_obj\u001b[0m\u001b[1;33m)\u001b[0m\u001b[1;33m:\u001b[0m\u001b[1;33m\u001b[0m\u001b[1;33m\u001b[0m\u001b[0m\n\u001b[1;32m--> 223\u001b[1;33m         \u001b[1;32mreturn\u001b[0m \u001b[0m_default_context\u001b[0m\u001b[1;33m.\u001b[0m\u001b[0mget_context\u001b[0m\u001b[1;33m(\u001b[0m\u001b[1;33m)\u001b[0m\u001b[1;33m.\u001b[0m\u001b[0mProcess\u001b[0m\u001b[1;33m.\u001b[0m\u001b[0m_Popen\u001b[0m\u001b[1;33m(\u001b[0m\u001b[0mprocess_obj\u001b[0m\u001b[1;33m)\u001b[0m\u001b[1;33m\u001b[0m\u001b[1;33m\u001b[0m\u001b[0m\n\u001b[0m\u001b[0;32m    224\u001b[0m \u001b[1;33m\u001b[0m\u001b[0m\n\u001b[0;32m    225\u001b[0m \u001b[1;32mclass\u001b[0m \u001b[0mDefaultContext\u001b[0m\u001b[1;33m(\u001b[0m\u001b[0mBaseContext\u001b[0m\u001b[1;33m)\u001b[0m\u001b[1;33m:\u001b[0m\u001b[1;33m\u001b[0m\u001b[1;33m\u001b[0m\u001b[0m\n",
      "\u001b[1;32m~\\Anaconda3\\envs\\pytorch\\lib\\multiprocessing\\context.py\u001b[0m in \u001b[0;36m_Popen\u001b[1;34m(process_obj)\u001b[0m\n\u001b[0;32m    320\u001b[0m         \u001b[1;32mdef\u001b[0m \u001b[0m_Popen\u001b[0m\u001b[1;33m(\u001b[0m\u001b[0mprocess_obj\u001b[0m\u001b[1;33m)\u001b[0m\u001b[1;33m:\u001b[0m\u001b[1;33m\u001b[0m\u001b[1;33m\u001b[0m\u001b[0m\n\u001b[0;32m    321\u001b[0m             \u001b[1;32mfrom\u001b[0m \u001b[1;33m.\u001b[0m\u001b[0mpopen_spawn_win32\u001b[0m \u001b[1;32mimport\u001b[0m \u001b[0mPopen\u001b[0m\u001b[1;33m\u001b[0m\u001b[1;33m\u001b[0m\u001b[0m\n\u001b[1;32m--> 322\u001b[1;33m             \u001b[1;32mreturn\u001b[0m \u001b[0mPopen\u001b[0m\u001b[1;33m(\u001b[0m\u001b[0mprocess_obj\u001b[0m\u001b[1;33m)\u001b[0m\u001b[1;33m\u001b[0m\u001b[1;33m\u001b[0m\u001b[0m\n\u001b[0m\u001b[0;32m    323\u001b[0m \u001b[1;33m\u001b[0m\u001b[0m\n\u001b[0;32m    324\u001b[0m     \u001b[1;32mclass\u001b[0m \u001b[0mSpawnContext\u001b[0m\u001b[1;33m(\u001b[0m\u001b[0mBaseContext\u001b[0m\u001b[1;33m)\u001b[0m\u001b[1;33m:\u001b[0m\u001b[1;33m\u001b[0m\u001b[1;33m\u001b[0m\u001b[0m\n",
      "\u001b[1;32m~\\Anaconda3\\envs\\pytorch\\lib\\multiprocessing\\popen_spawn_win32.py\u001b[0m in \u001b[0;36m__init__\u001b[1;34m(self, process_obj)\u001b[0m\n\u001b[0;32m     87\u001b[0m             \u001b[1;32mtry\u001b[0m\u001b[1;33m:\u001b[0m\u001b[1;33m\u001b[0m\u001b[1;33m\u001b[0m\u001b[0m\n\u001b[0;32m     88\u001b[0m                 \u001b[0mreduction\u001b[0m\u001b[1;33m.\u001b[0m\u001b[0mdump\u001b[0m\u001b[1;33m(\u001b[0m\u001b[0mprep_data\u001b[0m\u001b[1;33m,\u001b[0m \u001b[0mto_child\u001b[0m\u001b[1;33m)\u001b[0m\u001b[1;33m\u001b[0m\u001b[1;33m\u001b[0m\u001b[0m\n\u001b[1;32m---> 89\u001b[1;33m                 \u001b[0mreduction\u001b[0m\u001b[1;33m.\u001b[0m\u001b[0mdump\u001b[0m\u001b[1;33m(\u001b[0m\u001b[0mprocess_obj\u001b[0m\u001b[1;33m,\u001b[0m \u001b[0mto_child\u001b[0m\u001b[1;33m)\u001b[0m\u001b[1;33m\u001b[0m\u001b[1;33m\u001b[0m\u001b[0m\n\u001b[0m\u001b[0;32m     90\u001b[0m             \u001b[1;32mfinally\u001b[0m\u001b[1;33m:\u001b[0m\u001b[1;33m\u001b[0m\u001b[1;33m\u001b[0m\u001b[0m\n\u001b[0;32m     91\u001b[0m                 \u001b[0mset_spawning_popen\u001b[0m\u001b[1;33m(\u001b[0m\u001b[1;32mNone\u001b[0m\u001b[1;33m)\u001b[0m\u001b[1;33m\u001b[0m\u001b[1;33m\u001b[0m\u001b[0m\n",
      "\u001b[1;32m~\\Anaconda3\\envs\\pytorch\\lib\\multiprocessing\\reduction.py\u001b[0m in \u001b[0;36mdump\u001b[1;34m(obj, file, protocol)\u001b[0m\n\u001b[0;32m     58\u001b[0m \u001b[1;32mdef\u001b[0m \u001b[0mdump\u001b[0m\u001b[1;33m(\u001b[0m\u001b[0mobj\u001b[0m\u001b[1;33m,\u001b[0m \u001b[0mfile\u001b[0m\u001b[1;33m,\u001b[0m \u001b[0mprotocol\u001b[0m\u001b[1;33m=\u001b[0m\u001b[1;32mNone\u001b[0m\u001b[1;33m)\u001b[0m\u001b[1;33m:\u001b[0m\u001b[1;33m\u001b[0m\u001b[1;33m\u001b[0m\u001b[0m\n\u001b[0;32m     59\u001b[0m     \u001b[1;34m'''Replacement for pickle.dump() using ForkingPickler.'''\u001b[0m\u001b[1;33m\u001b[0m\u001b[1;33m\u001b[0m\u001b[0m\n\u001b[1;32m---> 60\u001b[1;33m     \u001b[0mForkingPickler\u001b[0m\u001b[1;33m(\u001b[0m\u001b[0mfile\u001b[0m\u001b[1;33m,\u001b[0m \u001b[0mprotocol\u001b[0m\u001b[1;33m)\u001b[0m\u001b[1;33m.\u001b[0m\u001b[0mdump\u001b[0m\u001b[1;33m(\u001b[0m\u001b[0mobj\u001b[0m\u001b[1;33m)\u001b[0m\u001b[1;33m\u001b[0m\u001b[1;33m\u001b[0m\u001b[0m\n\u001b[0m\u001b[0;32m     61\u001b[0m \u001b[1;33m\u001b[0m\u001b[0m\n\u001b[0;32m     62\u001b[0m \u001b[1;31m#\u001b[0m\u001b[1;33m\u001b[0m\u001b[1;33m\u001b[0m\u001b[1;33m\u001b[0m\u001b[0m\n",
      "\u001b[1;31mBrokenPipeError\u001b[0m: [Errno 32] Broken pipe"
     ]
    }
   ],
   "source": [
    "%%time\n",
    "xx = next(iter(train_dl))"
   ]
  },
  {
   "cell_type": "code",
   "execution_count": null,
   "metadata": {},
   "outputs": [],
   "source": []
  }
 ],
 "metadata": {
  "kernelspec": {
   "display_name": "Python 3",
   "language": "python",
   "name": "python3"
  },
  "language_info": {
   "codemirror_mode": {
    "name": "ipython",
    "version": 3
   },
   "file_extension": ".py",
   "mimetype": "text/x-python",
   "name": "python",
   "nbconvert_exporter": "python",
   "pygments_lexer": "ipython3",
   "version": "3.7.3"
  }
 },
 "nbformat": 4,
 "nbformat_minor": 2
}
